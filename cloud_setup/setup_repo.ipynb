{
 "cells": [
  {
   "cell_type": "code",
   "execution_count": 1,
   "id": "561e438e-93b9-41fc-9520-e949abe440f0",
   "metadata": {},
   "outputs": [
    {
     "name": "stdout",
     "output_type": "stream",
     "text": [
      "Cloning into 'tactical_edge_ai_challenge'...\n",
      "remote: Enumerating objects: 12, done.\u001b[K\n",
      "remote: Counting objects: 100% (12/12), done.\u001b[K\n",
      "remote: Compressing objects: 100% (9/9), done.\u001b[K\n",
      "remote: Total 12 (delta 1), reused 12 (delta 1), pack-reused 0\u001b[K\n",
      "Receiving objects: 100% (12/12), 16.57 MiB | 7.79 MiB/s, done.\n",
      "Resolving deltas: 100% (1/1), done.\n"
     ]
    }
   ],
   "source": [
    "!git clone https://github.com/Reekomer/tactical_edge_ai_challenge"
   ]
  },
  {
   "cell_type": "code",
   "execution_count": 2,
   "id": "e853a8fd-ef56-4c3c-a0b8-8b862693adaf",
   "metadata": {},
   "outputs": [
    {
     "name": "stdout",
     "output_type": "stream",
     "text": [
      "tactical_edge_ai_challenge/model/setup_model.sh: 1: !wget: not found\n",
      "Collecting llama-cpp-python\n",
      "  Downloading llama_cpp_python-0.2.57.tar.gz (36.9 MB)\n",
      "\u001b[2K     \u001b[90m━━━━━━━━━━━━━━━━━━━━━━━━━━━━━━━━━━━━━━━\u001b[0m \u001b[32m36.9/36.9 MB\u001b[0m \u001b[31m233.8 MB/s\u001b[0m eta \u001b[36m0:00:00\u001b[0ma \u001b[36m0:00:01\u001b[0m\n",
      "\u001b[?25h  Installing build dependencies ... \u001b[?25ldone\n",
      "\u001b[?25h  Getting requirements to build wheel ... \u001b[?25ldone\n",
      "\u001b[?25h  Installing backend dependencies ... \u001b[?25ldone\n",
      "\u001b[?25h  Preparing metadata (pyproject.toml) ... \u001b[?25ldone\n",
      "\u001b[?25hCollecting typing-extensions>=4.5.0 (from llama-cpp-python)\n",
      "  Downloading typing_extensions-4.10.0-py3-none-any.whl.metadata (3.0 kB)\n",
      "Requirement already satisfied: numpy>=1.20.0 in /usr/local/lib/python3.10/dist-packages (from llama-cpp-python) (1.24.1)\n",
      "Collecting diskcache>=5.6.1 (from llama-cpp-python)\n",
      "  Downloading diskcache-5.6.3-py3-none-any.whl.metadata (20 kB)\n",
      "Requirement already satisfied: jinja2>=2.11.3 in /usr/local/lib/python3.10/dist-packages (from llama-cpp-python) (3.1.2)\n",
      "Requirement already satisfied: MarkupSafe>=2.0 in /usr/local/lib/python3.10/dist-packages (from jinja2>=2.11.3->llama-cpp-python) (2.1.2)\n",
      "Downloading diskcache-5.6.3-py3-none-any.whl (45 kB)\n",
      "\u001b[2K   \u001b[90m━━━━━━━━━━━━━━━━━━━━━━━━━━━━━━━━━━━━━━━━\u001b[0m \u001b[32m45.5/45.5 kB\u001b[0m \u001b[31m240.7 MB/s\u001b[0m eta \u001b[36m0:00:00\u001b[0m\n",
      "\u001b[?25hDownloading typing_extensions-4.10.0-py3-none-any.whl (33 kB)\n",
      "Building wheels for collected packages: llama-cpp-python\n",
      "  Building wheel for llama-cpp-python (pyproject.toml) ... \u001b[?25ldone\n",
      "\u001b[?25h  Created wheel for llama-cpp-python: filename=llama_cpp_python-0.2.57-cp310-cp310-manylinux_2_35_x86_64.whl size=26481435 sha256=b6dfaf6bb9ebb974f268b3ade9ca4f449a17b30b9b392193475332a6838fbc5b\n",
      "  Stored in directory: /tmp/pip-ephem-wheel-cache-jbx95xww/wheels/7e/c0/00/e98d6e198f941c623da37b3f674354cbdccfcfb2cb9cf1133d\n",
      "Successfully built llama-cpp-python\n",
      "Installing collected packages: typing-extensions, diskcache, llama-cpp-python\n",
      "  Attempting uninstall: typing-extensions\n",
      "    Found existing installation: typing_extensions 4.4.0\n",
      "    Uninstalling typing_extensions-4.4.0:\n",
      "      Successfully uninstalled typing_extensions-4.4.0\n",
      "Successfully installed diskcache-5.6.3 llama-cpp-python-0.2.57 typing-extensions-4.10.0\n",
      "\u001b[33mWARNING: Running pip as the 'root' user can result in broken permissions and conflicting behaviour with the system package manager. It is recommended to use a virtual environment instead: https://pip.pypa.io/warnings/venv\u001b[0m\u001b[33m\n",
      "\u001b[0m\n",
      "\u001b[1m[\u001b[0m\u001b[34;49mnotice\u001b[0m\u001b[1;39;49m]\u001b[0m\u001b[39;49m A new release of pip is available: \u001b[0m\u001b[31;49m23.3.1\u001b[0m\u001b[39;49m -> \u001b[0m\u001b[32;49m24.0\u001b[0m\n",
      "\u001b[1m[\u001b[0m\u001b[34;49mnotice\u001b[0m\u001b[1;39;49m]\u001b[0m\u001b[39;49m To update, run: \u001b[0m\u001b[32;49mpython -m pip install --upgrade pip\u001b[0m\n"
     ]
    }
   ],
   "source": [
    "!sh tactical_edge_ai_challenge/model/setup_model.sh"
   ]
  },
  {
   "cell_type": "code",
   "execution_count": null,
   "id": "07bf0f67-a71a-485d-a7ca-59820deb296b",
   "metadata": {},
   "outputs": [],
   "source": [
    "!pip install poetry"
   ]
  },
  {
   "cell_type": "code",
   "execution_count": 5,
   "id": "1f81fd1e-4892-457d-9f25-c8f2a59a3115",
   "metadata": {},
   "outputs": [],
   "source": [
    "import os\n",
    "os.chdir(\"/workspace/tactical_edge_ai_challenge/model\")"
   ]
  },
  {
   "cell_type": "code",
   "execution_count": 6,
   "id": "3646c1e8-0b69-4e92-b11d-c19018218062",
   "metadata": {},
   "outputs": [
    {
     "name": "stdout",
     "output_type": "stream",
     "text": [
      "--2024-03-22 11:27:59--  https://huggingface.co/TheBloke/zephyr-7B-beta-GGUF/resolve/main/zephyr-7b-beta.Q5_K_M.gguf\n",
      "Resolving huggingface.co (huggingface.co)... 18.165.122.30, 18.165.122.101, 18.165.122.11, ...\n",
      "Connecting to huggingface.co (huggingface.co)|18.165.122.30|:443... connected.\n",
      "HTTP request sent, awaiting response... 302 Found\n",
      "Location: https://cdn-lfs-us-1.huggingface.co/repos/fe/17/fe17596731f84a0d03bece77489780bc7e068323c0aeca88b6393d3e9e65dd49/37894e5b171bd7228f4af7bd5bb0758dd29d6f07fb8e4742e387720f66bac434?response-content-disposition=attachment%3B+filename*%3DUTF-8%27%27zephyr-7b-beta.Q5_K_M.gguf%3B+filename%3D%22zephyr-7b-beta.Q5_K_M.gguf%22%3B&Expires=1711366079&Policy=eyJTdGF0ZW1lbnQiOlt7IkNvbmRpdGlvbiI6eyJEYXRlTGVzc1RoYW4iOnsiQVdTOkVwb2NoVGltZSI6MTcxMTM2NjA3OX19LCJSZXNvdXJjZSI6Imh0dHBzOi8vY2RuLWxmcy11cy0xLmh1Z2dpbmdmYWNlLmNvL3JlcG9zL2ZlLzE3L2ZlMTc1OTY3MzFmODRhMGQwM2JlY2U3NzQ4OTc4MGJjN2UwNjgzMjNjMGFlY2E4OGI2MzkzZDNlOWU2NWRkNDkvMzc4OTRlNWIxNzFiZDcyMjhmNGFmN2JkNWJiMDc1OGRkMjlkNmYwN2ZiOGU0NzQyZTM4NzcyMGY2NmJhYzQzND9yZXNwb25zZS1jb250ZW50LWRpc3Bvc2l0aW9uPSoifV19&Signature=SY1JBW6BdzyRsHCtHvTt-7Us0VvgCaaVwIeA-vKqiTZoTErlKeO3t5Ark3nkoe7pXt9E2rk0nVKB8eU2dspE8LRozmrqDuCwKFm50YkSaXDqqwdKOcm3MoQuOUkn3G4pA9X-WUaPCs1YS89s0abA9edaxykxAV3ifLoivtq5K%7ExXvMCCPFv4WN%7E1KsvXdvM%7EgS8TbsdTpPF-SJ-tCTRBQlLyIOlNl3WZSQahWJv0zvh6jLvMOOzOydKumsTAmVbL0tmJWg0YyfI%7ENh%7EF-Ss%7EKCE2mE6zPT2bFERpXA9avpv7xq6%7EAnVMemxwNObhs5K-0Y5v8iZIKGApFahVqnIhvw__&Key-Pair-Id=KCD77M1F0VK2B [following]\n",
      "--2024-03-22 11:27:59--  https://cdn-lfs-us-1.huggingface.co/repos/fe/17/fe17596731f84a0d03bece77489780bc7e068323c0aeca88b6393d3e9e65dd49/37894e5b171bd7228f4af7bd5bb0758dd29d6f07fb8e4742e387720f66bac434?response-content-disposition=attachment%3B+filename*%3DUTF-8%27%27zephyr-7b-beta.Q5_K_M.gguf%3B+filename%3D%22zephyr-7b-beta.Q5_K_M.gguf%22%3B&Expires=1711366079&Policy=eyJTdGF0ZW1lbnQiOlt7IkNvbmRpdGlvbiI6eyJEYXRlTGVzc1RoYW4iOnsiQVdTOkVwb2NoVGltZSI6MTcxMTM2NjA3OX19LCJSZXNvdXJjZSI6Imh0dHBzOi8vY2RuLWxmcy11cy0xLmh1Z2dpbmdmYWNlLmNvL3JlcG9zL2ZlLzE3L2ZlMTc1OTY3MzFmODRhMGQwM2JlY2U3NzQ4OTc4MGJjN2UwNjgzMjNjMGFlY2E4OGI2MzkzZDNlOWU2NWRkNDkvMzc4OTRlNWIxNzFiZDcyMjhmNGFmN2JkNWJiMDc1OGRkMjlkNmYwN2ZiOGU0NzQyZTM4NzcyMGY2NmJhYzQzND9yZXNwb25zZS1jb250ZW50LWRpc3Bvc2l0aW9uPSoifV19&Signature=SY1JBW6BdzyRsHCtHvTt-7Us0VvgCaaVwIeA-vKqiTZoTErlKeO3t5Ark3nkoe7pXt9E2rk0nVKB8eU2dspE8LRozmrqDuCwKFm50YkSaXDqqwdKOcm3MoQuOUkn3G4pA9X-WUaPCs1YS89s0abA9edaxykxAV3ifLoivtq5K%7ExXvMCCPFv4WN%7E1KsvXdvM%7EgS8TbsdTpPF-SJ-tCTRBQlLyIOlNl3WZSQahWJv0zvh6jLvMOOzOydKumsTAmVbL0tmJWg0YyfI%7ENh%7EF-Ss%7EKCE2mE6zPT2bFERpXA9avpv7xq6%7EAnVMemxwNObhs5K-0Y5v8iZIKGApFahVqnIhvw__&Key-Pair-Id=KCD77M1F0VK2B\n",
      "Resolving cdn-lfs-us-1.huggingface.co (cdn-lfs-us-1.huggingface.co)... 18.165.140.30, 18.165.140.83, 18.165.140.93, ...\n",
      "Connecting to cdn-lfs-us-1.huggingface.co (cdn-lfs-us-1.huggingface.co)|18.165.140.30|:443... connected.\n",
      "HTTP request sent, awaiting response... 200 OK\n",
      "Length: 5131409088 (4.8G) [binary/octet-stream]\n",
      "Saving to: ‘zephyr-7b-beta.Q5_K_M.gguf’\n",
      "\n",
      "zephyr-7b-beta.Q5_K 100%[===================>]   4.78G  20.9MB/s    in 3m 8s   \n",
      "\n",
      "2024-03-22 11:31:08 (26.1 MB/s) - ‘zephyr-7b-beta.Q5_K_M.gguf’ saved [5131409088/5131409088]\n",
      "\n"
     ]
    }
   ],
   "source": [
    "!wget https://huggingface.co/TheBloke/zephyr-7B-beta-GGUF/resolve/main/zephyr-7b-beta.Q5_K_M.gguf"
   ]
  },
  {
   "cell_type": "code",
   "execution_count": 7,
   "id": "4447b380-69c5-4321-9611-2d111d76574d",
   "metadata": {},
   "outputs": [],
   "source": [
    "import os\n",
    "os.chdir(\"/workspace/tactical_edge_ai_challenge/\")"
   ]
  },
  {
   "cell_type": "code",
   "execution_count": null,
   "id": "36d8e1c6-3fa0-4e46-a4bf-f6e3af88e823",
   "metadata": {},
   "outputs": [],
   "source": []
  }
 ],
 "metadata": {
  "kernelspec": {
   "display_name": "Python 3 (ipykernel)",
   "language": "python",
   "name": "python3"
  },
  "language_info": {
   "codemirror_mode": {
    "name": "ipython",
    "version": 3
   },
   "file_extension": ".py",
   "mimetype": "text/x-python",
   "name": "python",
   "nbconvert_exporter": "python",
   "pygments_lexer": "ipython3",
   "version": "3.10.12"
  }
 },
 "nbformat": 4,
 "nbformat_minor": 5
}
